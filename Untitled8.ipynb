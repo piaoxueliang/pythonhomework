{
 "cells": [
  {
   "cell_type": "markdown",
   "metadata": {},
   "source": [
    "import math\n",
    "x1=int(input())\n",
    "y1=int(input())\n",
    "x2=int(input())\n",
    "y2=int(input())\n",
    "a=math.sqrt((x2-x1)**2+(y2-y1)**2)\n",
    "print(a)"
   ]
  },
  {
   "cell_type": "markdown",
   "metadata": {},
   "source": [
    "from fractions import Fraction\n",
    "x=0\n",
    "for n in range(1,8):\n",
    " a=Fraction(1,n)\n",
    " x+=a\n",
    "print(x)"
   ]
  },
  {
   "cell_type": "markdown",
   "metadata": {},
   "source": [
    "print(\"数値を入力\")\n",
    "x=int(input())\n",
    "if(x>900 and x<1100):\n",
    " print(\"OK\")\n",
    "elif(x>1900 and x<2100):\n",
    "  print(\"OK\")\n",
    "else:\n",
    "    print(\"Boo\")"
   ]
  },
  {
   "cell_type": "code",
   "execution_count": 20,
   "metadata": {},
   "outputs": [
    {
     "data": {
      "text/plain": [
       "'192.168.10.3'"
      ]
     },
     "execution_count": 20,
     "metadata": {},
     "output_type": "execute_result"
    }
   ],
   "source": [
    "import socket\n",
    "socket.gethostbyname(socket.gethostname())"
   ]
  },
  {
   "cell_type": "code",
   "execution_count": 24,
   "metadata": {},
   "outputs": [
    {
     "name": "stdout",
     "output_type": "stream",
     "text": [
      "environ({'ADSK_CLM_WPAD_PROXY_CHECK': 'FALSE', 'ALLUSERSPROFILE': 'C:\\\\ProgramData', 'APPDATA': 'C:\\\\Users\\\\piaoxueliang\\\\AppData\\\\Roaming', 'COMMONPROGRAMFILES': 'C:\\\\Program Files\\\\Common Files', 'COMMONPROGRAMFILES(X86)': 'C:\\\\Program Files (x86)\\\\Common Files', 'COMMONPROGRAMW6432': 'C:\\\\Program Files\\\\Common Files', 'COMPUTERNAME': 'DESKTOP-R7R9VQ7', 'COMSPEC': 'C:\\\\WINDOWS\\\\system32\\\\cmd.exe', 'CONDA_DEFAULT_ENV': 'base', 'CONDA_EXE': 'C:\\\\Users\\\\piaoxueliang\\\\Anaconda3\\\\Scripts\\\\conda.exe', 'CONDA_PROMPT_MODIFIER': '(base) ', 'CONDA_PYTHON_EXE': 'C:\\\\Users\\\\piaoxueliang\\\\Anaconda3\\\\python.exe', 'CONDA_ROOT': 'C:\\\\Users\\\\piaoxueliang\\\\Anaconda3', 'CONDA_SHLVL': '1', 'DRIVERDATA': 'C:\\\\Windows\\\\System32\\\\Drivers\\\\DriverData', 'FPS_BROWSER_APP_PROFILE_STRING': 'Internet Explorer', 'FPS_BROWSER_USER_PROFILE_STRING': 'Default', 'GNUPLOT_LIB': 'C:\\\\gnuplot\\\\demo;C:\\\\gnuplot\\\\demo\\\\games;C:\\\\gnuplot\\\\share', 'GNUTERM': 'windows', 'HOMEDRIVE': 'C:', 'HOMEPATH': '\\\\Users\\\\piaoxueliang', 'LOCALAPPDATA': 'C:\\\\Users\\\\piaoxueliang\\\\AppData\\\\Local', 'LOGONSERVER': '\\\\\\\\DESKTOP-R7R9VQ7', 'NUMBER_OF_PROCESSORS': '4', 'ONEDRIVE': 'C:\\\\Users\\\\piaoxueliang\\\\OneDrive', 'OS': 'Windows_NT', 'PATH': 'C:\\\\Users\\\\piaoxueliang\\\\Anaconda3;C:\\\\Users\\\\piaoxueliang\\\\Anaconda3\\\\Library\\\\mingw-w64\\\\bin;C:\\\\Users\\\\piaoxueliang\\\\Anaconda3\\\\Library\\\\usr\\\\bin;C:\\\\Users\\\\piaoxueliang\\\\Anaconda3\\\\Library\\\\bin;C:\\\\Users\\\\piaoxueliang\\\\Anaconda3\\\\Scripts;C:\\\\Users\\\\piaoxueliang\\\\Anaconda3\\\\bin;C:\\\\Users\\\\piaoxueliang\\\\Anaconda3\\\\condabin;C:\\\\Users\\\\piaoxueliang\\\\Anaconda3;C:\\\\Users\\\\piaoxueliang\\\\Anaconda3\\\\Library\\\\mingw-w64\\\\bin;C:\\\\Users\\\\piaoxueliang\\\\Anaconda3\\\\Library\\\\usr\\\\bin;C:\\\\Users\\\\piaoxueliang\\\\Anaconda3\\\\Library\\\\bin;C:\\\\Users\\\\piaoxueliang\\\\Anaconda3\\\\Scripts;C:\\\\Program Files (x86)\\\\Common Files\\\\Oracle\\\\Java\\\\javapath;C:\\\\Program Files (x86)\\\\Intel\\\\iCLS Client;C:\\\\Program Files\\\\Intel\\\\iCLS Client;C:\\\\WINDOWS\\\\system32;C:\\\\WINDOWS;C:\\\\WINDOWS\\\\System32\\\\Wbem;C:\\\\WINDOWS\\\\System32\\\\WindowsPowerShell\\\\v1.0;C:\\\\Program Files (x86)\\\\Intel\\\\Intel(R) Management Engine Components\\\\DAL;C:\\\\Program Files\\\\Intel\\\\Intel(R) Management Engine Components\\\\DAL;C:\\\\Program Files (x86)\\\\Intel\\\\Intel(R) Management Engine Components\\\\IPT;C:\\\\Program Files\\\\Intel\\\\Intel(R) Management Engine Components\\\\IPT;c:\\\\Program Files (x86)\\\\Symantec\\\\VIP Access Client;C:\\\\Program Files\\\\Intel\\\\WiFi\\\\bin;C:\\\\Program Files\\\\Common Files\\\\Intel\\\\WirelessCommon;C:\\\\Program Files\\\\MATLAB\\\\R2017a\\\\runtime\\\\win64;C:\\\\Program Files\\\\MATLAB\\\\R2017a\\\\bin;C:\\\\MinGW\\\\bin;C:\\\\WINDOWS\\\\System32\\\\OpenSSH;C:\\\\Program Files\\\\Java\\\\jdk1.8.0_171\\\\bin;C:\\\\Program Files\\\\dotnet;C:\\\\Program Files\\\\Microsoft SQL Server\\\\130\\\\Tools\\\\Binn;C:\\\\Users\\\\piaoxueliang\\\\AppData\\\\Local\\\\Microsoft\\\\WindowsApps;.', 'PATHEXT': '.COM;.EXE;.BAT;.CMD;.VBS;.VBE;.JS;.JSE;.WSF;.WSH;.MSC', 'PROCESSOR_ARCHITECTURE': 'AMD64', 'PROCESSOR_IDENTIFIER': 'Intel64 Family 6 Model 142 Stepping 9, GenuineIntel', 'PROCESSOR_LEVEL': '6', 'PROCESSOR_REVISION': '8e09', 'PROGRAMDATA': 'C:\\\\ProgramData', 'PROGRAMFILES': 'C:\\\\Program Files', 'PROGRAMFILES(X86)': 'C:\\\\Program Files (x86)', 'PROGRAMW6432': 'C:\\\\Program Files', 'PROMPT': '(base) $P$G', 'PSMODULEPATH': 'C:\\\\Program Files\\\\WindowsPowerShell\\\\Modules;C:\\\\WINDOWS\\\\system32\\\\WindowsPowerShell\\\\v1.0\\\\Modules', 'PUBLIC': 'C:\\\\Users\\\\Public', 'SESSIONNAME': 'Console', 'SYSTEMDRIVE': 'C:', 'SYSTEMROOT': 'C:\\\\WINDOWS', 'TEMP': 'C:\\\\Users\\\\PIAOXU~1\\\\AppData\\\\Local\\\\Temp', 'TMP': 'C:\\\\Users\\\\PIAOXU~1\\\\AppData\\\\Local\\\\Temp', 'USERDOMAIN': 'DESKTOP-R7R9VQ7', 'USERDOMAIN_ROAMINGPROFILE': 'DESKTOP-R7R9VQ7', 'USERNAME': 'piaoxueliang', 'USERPROFILE': 'C:\\\\Users\\\\piaoxueliang', 'WINDIR': 'C:\\\\WINDOWS', 'CONDA_PREFIX': 'C:\\\\Users\\\\piaoxueliang\\\\Anaconda3', 'KERNEL_LAUNCH_TIMEOUT': '40', 'JPY_INTERRUPT_EVENT': '2580', 'IPY_INTERRUPT_EVENT': '2580', 'JPY_PARENT_PID': '2352', 'TERM': 'xterm-color', 'CLICOLOR': '1', 'PAGER': 'cat', 'GIT_PAGER': 'cat', 'MPLBACKEND': 'module://ipykernel.pylab.backend_inline'})\n"
     ]
    }
   ],
   "source": [
    "import os\n",
    "print(os.environ)"
   ]
  },
  {
   "cell_type": "code",
   "execution_count": null,
   "metadata": {},
   "outputs": [],
   "source": []
  }
 ],
 "metadata": {
  "kernelspec": {
   "display_name": "Python 3",
   "language": "python",
   "name": "python3"
  },
  "language_info": {
   "codemirror_mode": {
    "name": "ipython",
    "version": 3
   },
   "file_extension": ".py",
   "mimetype": "text/x-python",
   "name": "python",
   "nbconvert_exporter": "python",
   "pygments_lexer": "ipython3",
   "version": "3.7.3"
  }
 },
 "nbformat": 4,
 "nbformat_minor": 2
}
